{
 "cells": [
  {
   "cell_type": "markdown",
   "id": "c235ec89-dbf6-4fe5-98d6-7a44fd410d70",
   "metadata": {},
   "source": [
    "# Model selection and overfitting\n",
    "\n",
    "## Problem 1: classification\n",
    "\n",
    "In this exercise, we will explore model selection for classifying SANS patterns using the k-nearest neighbor algorithm.\n"
   ]
  },
  {
   "cell_type": "markdown",
   "id": "8033c4b3-5e1f-4dfa-879f-e86fe46d7979",
   "metadata": {},
   "source": [
    "### Import Python modules"
   ]
  },
  {
   "cell_type": "code",
   "execution_count": null,
   "id": "96725672",
   "metadata": {},
   "outputs": [],
   "source": [
    "import os  \n",
    "import numpy as np\n",
    "import matplotlib.pyplot as plt\n",
    "\n",
    "from sklearn.model_selection import train_test_split\n",
    "from sklearn.preprocessing import StandardScaler, MinMaxScaler, RobustScaler\n",
    "from sklearn.neural_network import MLPClassifier\n",
    "from sklearn.neighbors import KNeighborsClassifier\n",
    "from sklearn.svm import SVC\n",
    "from sklearn.gaussian_process.kernels import RBF\n",
    "from sklearn.tree import DecisionTreeClassifier\n",
    "from sklearn.ensemble import RandomForestClassifier\n",
    "from sklearn.naive_bayes import GaussianNB\n",
    "from sklearn.discriminant_analysis import QuadraticDiscriminantAnalysis\n",
    "from sklearn.metrics import classification_report, f1_score, accuracy_score\n",
    "\n",
    "import pickle\n",
    "\n",
    "%matplotlib inline"
   ]
  },
  {
   "cell_type": "markdown",
   "id": "37cf8e7e-f089-4750-89fb-b2fc06d0fdf7",
   "metadata": {},
   "source": [
    "### Load data\n",
    "\n",
    "Load SANS patterns."
   ]
  },
  {
   "cell_type": "code",
   "execution_count": null,
   "id": "8eb91709",
   "metadata": {},
   "outputs": [],
   "source": [
    "datapath=\"data/test3_short.pickle\"\n",
    "with open(datapath, 'rb') as f:\n",
    "    data = pickle.load(f)"
   ]
  },
  {
   "cell_type": "markdown",
   "id": "67225220-5270-4d03-bd90-04c67ea16c67",
   "metadata": {},
   "source": [
    "### Set up labels for classification and visualization"
   ]
  },
  {
   "cell_type": "code",
   "execution_count": null,
   "id": "f2b87961",
   "metadata": {},
   "outputs": [],
   "source": [
    "labels = list(set(data[\"y\"]))\n",
    "labdict = dict.fromkeys(labels)\n",
    "for idx, k in enumerate(labels):\n",
    "    labdict[k] = idx\n",
    "Yvals_num = [labdict[k] for k in data[\"y\"]]\n",
    "\n",
    "print(labdict)"
   ]
  },
  {
   "cell_type": "markdown",
   "id": "bde9a73e-55e0-420c-9993-b251903b2142",
   "metadata": {},
   "source": [
    "### Preprocess data"
   ]
  },
  {
   "cell_type": "code",
   "execution_count": null,
   "id": "b2ad41f8",
   "metadata": {},
   "outputs": [],
   "source": [
    "%%time\n",
    "# data preprocessing: flatten\n",
    "for idx, arr in enumerate(data[\"sas\"]):\n",
    "    data[\"sas\"][idx] = arr.flatten()\n",
    "\n",
    "scaler = MinMaxScaler()\n",
    "X_sas = scaler.fit_transform(np.array(data[\"sas\"]))"
   ]
  },
  {
   "cell_type": "markdown",
   "id": "5254ca59-63f1-42a1-b330-28856b31f3a7",
   "metadata": {},
   "source": [
    "### Visualize SANS patterns"
   ]
  },
  {
   "cell_type": "code",
   "execution_count": null,
   "id": "4bc1d28e-e28e-430d-8b9e-458d3cab10f2",
   "metadata": {},
   "outputs": [],
   "source": [
    "fig, ax = plt.subplots(6, 7, figsize = (12,7))\n",
    "for i,k in enumerate(np.arange(1, len(X_sas), 143)):\n",
    "    ix,iy = (i//7)%6, i%7\n",
    "    h = ax[ix,iy]\n",
    "    h.imshow( X_sas[k].reshape((128,128)) )\n",
    "    h.set_xticks([])\n",
    "    if iy == 0:\n",
    "        h.set_yticks([64])\n",
    "        ii = Yvals_num[k]\n",
    "        iii = labels[ii]\n",
    "        h.set_yticklabels([iii])\n",
    "    else:\n",
    "        h.set_yticks([])\n",
    "    "
   ]
  },
  {
   "cell_type": "markdown",
   "id": "5b90313e-53a3-4500-bb11-dd2d353271b6",
   "metadata": {},
   "source": [
    "### Select the learning algorithms and the corresponding hyperparameters"
   ]
  },
  {
   "cell_type": "code",
   "execution_count": null,
   "id": "ac43df2b-fe03-443b-8dad-26b85311d167",
   "metadata": {},
   "outputs": [],
   "source": [
    "names = [\n",
    "    \"Nearest Neighbors\",\n",
    "    \"Linear SVM\",\n",
    "    \"RBF SVM\",\n",
    "    \"Decision Tree\",\n",
    "    \"Random Forest\",\n",
    "    \"MLP\",\n",
    "    \"Naive Bayes\",\n",
    "    \"QDA\",\n",
    "]\n",
    "\n",
    "classifiers = [\n",
    "    KNeighborsClassifier(5),\n",
    "    SVC(kernel=\"linear\", C=0.5), # SVC(kernel=\"linear\", C=0.025),\n",
    "    SVC(gamma='scale', C=100.0), # SVC(gamma='scale', C=1.0),\n",
    "    DecisionTreeClassifier(max_depth=20, max_features='sqrt'),\n",
    "    RandomForestClassifier(max_depth=20, n_estimators=100, max_features='sqrt', n_jobs=4),\n",
    "    MLPClassifier(hidden_layer_sizes=(20,20), alpha=0.01, learning_rate='adaptive', max_iter=1000),\n",
    "    GaussianNB(),\n",
    "    QuadraticDiscriminantAnalysis(),\n",
    "]"
   ]
  },
  {
   "cell_type": "markdown",
   "id": "a987eded-b663-4eb2-b3f8-95c2a5687140",
   "metadata": {},
   "source": [
    "### Train the classifier(s)"
   ]
  },
  {
   "cell_type": "code",
   "execution_count": null,
   "id": "80402675-31fe-4d59-88d8-7bc3bd456b8f",
   "metadata": {},
   "outputs": [],
   "source": [
    "%%time\n",
    "print('Predict full SAS data.\\n')\n",
    "\n",
    "X_train, X_ntrain, y_train, y_ntrain = train_test_split(X_sas, Yvals_num, test_size=0.4, random_state=1)\n",
    "X_test, X_val, y_test, y_val = train_test_split(X_ntrain, y_ntrain, test_size=0.5, random_state=3)\n",
    "\n",
    "ncl = 1\n",
    "for name, clf in zip(names[:ncl], classifiers[:ncl]):\n",
    "    print(name)\n",
    "    clf.fit(X_train, y_train)\n",
    "    y_pred = clf.predict(X_sas)\n",
    "    train_score = accuracy_score(y_train, clf.predict(X_train))\n",
    "    test_score = accuracy_score(y_test, clf.predict(X_test))\n",
    "    val_score = accuracy_score(y_val, clf.predict(X_val))\n",
    "    \n",
    "    print('Train accuracy: %g'%(train_score))\n",
    "    print('Test accuracy: %g'%(test_score))\n",
    "    print('Validation accuracy: %g'%(val_score))\n",
    "    print (classification_report(clf.predict(X_test), y_test))\n"
   ]
  },
  {
   "cell_type": "markdown",
   "id": "5f7b9c41-4ba5-418f-96ee-e9b1e17c5801",
   "metadata": {},
   "source": [
    "**Your task here**. Explore the dependence of the training and test error on the parameter k of the k-nearest neighbor algorithm."
   ]
  }
 ],
 "metadata": {
  "kernelspec": {
   "display_name": "Python 3 (ipykernel)",
   "language": "python",
   "name": "python3"
  },
  "language_info": {
   "codemirror_mode": {
    "name": "ipython",
    "version": 3
   },
   "file_extension": ".py",
   "mimetype": "text/x-python",
   "name": "python",
   "nbconvert_exporter": "python",
   "pygments_lexer": "ipython3",
   "version": "3.12.4"
  }
 },
 "nbformat": 4,
 "nbformat_minor": 5
}
