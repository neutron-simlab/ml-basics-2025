{
 "cells": [
  {
   "cell_type": "markdown",
   "id": "274ba750-3934-40d8-9bc8-8634f5d6b0de",
   "metadata": {},
   "source": [
    "# Language models\n",
    "## Problem 4: n-gram models\n",
    "\n",
    "In this excersise we train n-gram models to predict the next letter in the text. As training data, texts of William Shakespeare will be used."
   ]
  },
  {
   "cell_type": "markdown",
   "id": "8984c08a-c17a-4abc-8393-af5ee9e73421",
   "metadata": {},
   "source": [
    "**Tasks:**\n",
    "\n",
    "- Run the training of the bigram model with default settings. Evaluate the training performance. Do you observe overfitting?\n",
    "- Change the number of training data samples in the line `train_data = data[:1000]`. How does it influence the training performance?\n",
    "- Are you able to reach the plateau on the validation curve? How large is your dataset at this point? What is the minimal validation error?\n",
    "- Repeat the same steps for the trigram/fourgram model. Compare the required amount of data to reach the same minimal validation error. What can you conclude?\n",
    "- **(optional)** Estimate how large the dataset should be for 10-gram/20-gram/100-gram model? Is it feasible? What could be the alternative solution?"
   ]
  },
  {
   "cell_type": "markdown",
   "id": "d7147607-7727-4365-898c-201982737c3c",
   "metadata": {},
   "source": [
    "### Import Python modules"
   ]
  },
  {
   "cell_type": "code",
   "execution_count": 1,
   "id": "0c48f45f-93de-4a76-adef-6e128810e962",
   "metadata": {
    "tags": []
   },
   "outputs": [],
   "source": [
    "import torch\n",
    "import torch.nn as nn\n",
    "from torch.nn import functional as F"
   ]
  },
  {
   "cell_type": "markdown",
   "id": "9b1c5c95-e669-47f9-be5a-792de77b455f",
   "metadata": {},
   "source": [
    "### Set the random seed\n",
    "\n",
    "Needed for reproducibility of the results"
   ]
  },
  {
   "cell_type": "code",
   "execution_count": 2,
   "id": "ac62e0c8-8b1e-4ef4-bc57-76341274af11",
   "metadata": {
    "tags": []
   },
   "outputs": [
    {
     "data": {
      "text/plain": [
       "<torch._C.Generator at 0x1b1686a66d0>"
      ]
     },
     "execution_count": 2,
     "metadata": {},
     "output_type": "execute_result"
    }
   ],
   "source": [
    "torch.manual_seed(1337)"
   ]
  },
  {
   "cell_type": "markdown",
   "id": "e6ce04b5-2541-4f10-9a48-93cdde27b85d",
   "metadata": {},
   "source": [
    "### Set the hyperparameters"
   ]
  },
  {
   "cell_type": "code",
   "execution_count": 3,
   "id": "2a3aa8ce-848c-4025-a730-820fdc2acd34",
   "metadata": {
    "tags": []
   },
   "outputs": [],
   "source": [
    "# hyperparameters\n",
    "batch_size = 32 # how many independent sequences will we process in parallel?\n",
    "block_size = 8 # what is the maximum context length for predictions?\n",
    "max_iters = 3000\n",
    "eval_interval = 200\n",
    "learning_rate = 1e-2\n",
    "eval_iters = 200"
   ]
  },
  {
   "cell_type": "markdown",
   "id": "60773db6-af10-42cf-a851-447f93bbc98a",
   "metadata": {},
   "source": [
    "Set the device to be used to run the training"
   ]
  },
  {
   "cell_type": "code",
   "execution_count": 4,
   "id": "15a50fc3-1d50-4b1f-899e-5a2f4fd33071",
   "metadata": {
    "tags": []
   },
   "outputs": [
    {
     "name": "stdout",
     "output_type": "stream",
     "text": [
      "cpu\n"
     ]
    }
   ],
   "source": [
    "device = 'cuda' if torch.cuda.is_available() else 'cpu'\n",
    "device = 'cpu'\n",
    "print(device)"
   ]
  },
  {
   "cell_type": "markdown",
   "id": "4feee160-3a44-4f08-9038-52c547e85be0",
   "metadata": {},
   "source": [
    "### Set the model complexity\n",
    "\n",
    "Changing parameter `N` in the block below you will be able to switch between bigram/trigram/fourgram models. Do not forget to reinitialize your neural network after you have changed `N` (or just re-run all cells via Run->Run all cells menu)."
   ]
  },
  {
   "cell_type": "code",
   "execution_count": 5,
   "id": "e6c4e0b3-996b-441c-9874-87f03c6fb3c5",
   "metadata": {
    "tags": []
   },
   "outputs": [],
   "source": [
    "# N = 1  # bigram\n",
    "# N = 2  # trigram\n",
    "N = 3  # fourgram"
   ]
  },
  {
   "cell_type": "markdown",
   "id": "7433c06e-1970-432e-b095-745607ca91c6",
   "metadata": {},
   "source": [
    "### Load data\n",
    "\n",
    "Load raw text stored in the file `input.txt` containing  William Shakespeare's works. The dataset is originally taken from [this repository](https://raw.githubusercontent.com/karpathy/char-rnn/master/data/tinyshakespeare/input.txt)"
   ]
  },
  {
   "cell_type": "code",
   "execution_count": 6,
   "id": "db364a75-950e-4d7f-aefc-cb604d6279f8",
   "metadata": {
    "tags": []
   },
   "outputs": [],
   "source": [
    "with open('data/input.txt', 'r', encoding='utf-8') as f:\n",
    "    text = f.read()"
   ]
  },
  {
   "cell_type": "markdown",
   "id": "dd7e804a-913e-4e08-b11d-4f5b843755fb",
   "metadata": {},
   "source": [
    "### Tokenizer\n",
    "\n",
    "Simple character based tokenizer: Encoding and decoding of characters to tokens."
   ]
  },
  {
   "cell_type": "code",
   "execution_count": 7,
   "id": "3a7d635a-27cd-4efc-a3ec-ae951271b514",
   "metadata": {
    "tags": []
   },
   "outputs": [],
   "source": [
    "# here are all the unique characters that occur in this text\n",
    "chars = sorted(list(set(text)))\n",
    "vocab_size = len(chars)\n",
    "\n",
    "# create a mapping from characters to integers\n",
    "stoi = { ch:i for i,ch in enumerate(chars) }\n",
    "itos = { i:ch for i,ch in enumerate(chars) }\n",
    "encode = lambda s: [stoi[c] for c in s] # encoder: take a string, output a list of integers\n",
    "decode = lambda l: ''.join([itos[i] for i in l]) # decoder: take a list of integers, output a string"
   ]
  },
  {
   "cell_type": "markdown",
   "id": "9003a2c0-979f-4625-a3ec-e247955b769e",
   "metadata": {},
   "source": [
    "### Encode data"
   ]
  },
  {
   "cell_type": "code",
   "execution_count": 8,
   "id": "cefb6437-9ea5-413a-bbcd-ecac72635657",
   "metadata": {},
   "outputs": [],
   "source": [
    "data = torch.tensor(encode(text), dtype=torch.long)"
   ]
  },
  {
   "cell_type": "markdown",
   "id": "dccd7fe4-e2fa-465b-aa10-73e82116addf",
   "metadata": {},
   "source": [
    "### Split to training and validation datasets"
   ]
  },
  {
   "cell_type": "code",
   "execution_count": 9,
   "id": "21621cdc-78e4-4be4-a425-61508dbbda7e",
   "metadata": {
    "tags": []
   },
   "outputs": [],
   "source": [
    "n = int(0.9*len(data)) # up to first 90% will be train, rest val\n",
    "val_data = data[n:]    # validation data"
   ]
  },
  {
   "cell_type": "markdown",
   "id": "b67f9087-80f5-4640-b851-15b7e77a6a4c",
   "metadata": {},
   "source": [
    "**Set size of the trainind dataset**\n",
    "\n",
    "In the line below you can vary the size of the training dataset from about 100 to $n$."
   ]
  },
  {
   "cell_type": "code",
   "execution_count": 10,
   "id": "2bd7acaf-e03a-4960-b59a-1910a841a7d9",
   "metadata": {},
   "outputs": [],
   "source": [
    "train_data = data[:1000]   # vary size of the training dataset here"
   ]
  },
  {
   "cell_type": "markdown",
   "id": "ef843156-c4ea-45b2-b72f-b2a8a2bb604b",
   "metadata": {},
   "source": [
    "### Define routines and classes required to define and train the model"
   ]
  },
  {
   "cell_type": "markdown",
   "id": "dbe5aa1d-7ecf-4e0c-8767-54f10706677e",
   "metadata": {},
   "source": [
    "**Load data batches**"
   ]
  },
  {
   "cell_type": "code",
   "execution_count": 11,
   "id": "628b13d9-a477-4924-bca0-bc290e7b4f0b",
   "metadata": {},
   "outputs": [],
   "source": [
    "from_base = lambda digits,block_size: torch.sum( torch.stack([digits[n:block_size+n]*vocab_size**n for n in range(N)]) ,dim=0)"
   ]
  },
  {
   "cell_type": "code",
   "execution_count": 12,
   "id": "fddfe3a1-fc2c-4f6c-ae2b-445ca4948f41",
   "metadata": {
    "tags": []
   },
   "outputs": [],
   "source": [
    "# data loading\n",
    "def get_batch(split):\n",
    "    # generate a small batch of data of inputs x and targets y\n",
    "    data = train_data if split == 'train' else val_data\n",
    "    ix = torch.randint(len(data) - block_size - N + 1, (batch_size,))\n",
    "    x = torch.stack( [from_base(data[i:i+block_size+N],block_size) for i in ix])\n",
    "    y = torch.stack([data[i+N:i+block_size+N] for i in ix]) \n",
    "    x, y = x.to(device), y.to(device)\n",
    "    return x, y"
   ]
  },
  {
   "cell_type": "markdown",
   "id": "f265625a-daba-4101-867a-263c0a41b309",
   "metadata": {},
   "source": [
    "**Compute loss**\n",
    "\n",
    "Estimate the loss on both splits `train` and `val` by averaging the loss for `eval_iters` samples of data matrices generated by `get_batch`."
   ]
  },
  {
   "cell_type": "code",
   "execution_count": 13,
   "id": "dcb2cdc0-1aff-4b9f-9eeb-478a35d69c83",
   "metadata": {
    "tags": []
   },
   "outputs": [],
   "source": [
    "@torch.no_grad()\n",
    "def estimate_loss():\n",
    "    out = {}\n",
    "    model.eval()\n",
    "    for split in ['train', 'val']:\n",
    "        losses = torch.zeros(eval_iters)\n",
    "        for k in range(eval_iters):\n",
    "            X, Y = get_batch(split)\n",
    "            logits, loss = model(X, Y)\n",
    "            losses[k] = loss.item()\n",
    "        out[split] = losses.mean()\n",
    "    model.train()\n",
    "    return out"
   ]
  },
  {
   "cell_type": "markdown",
   "id": "f03ddc95-8f41-4b8a-b196-88dee01e0c80",
   "metadata": {},
   "source": [
    "**Define n-gram language model**"
   ]
  },
  {
   "cell_type": "code",
   "execution_count": 14,
   "id": "fe089188-928a-4e3d-8ba0-6a1a56ca0c74",
   "metadata": {
    "tags": []
   },
   "outputs": [],
   "source": [
    "class NgramLanguageModel(nn.Module):\n",
    "\n",
    "    def __init__(self, vocab_size):\n",
    "        super().__init__()\n",
    "        # each token directly reads off the logits for the next token from a lookup table\n",
    "        self.token_embedding_table = nn.Embedding(vocab_size**N, vocab_size)\n",
    "\n",
    "    def forward(self, idx, targets=None):\n",
    "        # idx and targets are both (B,T) tensor of integers\n",
    "        logits = self.token_embedding_table(idx) # (B,T,C)\n",
    "\n",
    "        if targets is None:\n",
    "            loss = None\n",
    "        else:\n",
    "            B, T, C = logits.shape\n",
    "            logits = logits.view(B*T, C)\n",
    "            targets = targets.view(B*T)\n",
    "            loss = F.cross_entropy(logits, targets)\n",
    "\n",
    "        return logits, loss\n",
    "\n",
    "    def generate(self, idx, max_new_tokens):\n",
    "        # idx is (B, T) array of indices in the current context\n",
    "        for _ in range(max_new_tokens):\n",
    "            x = torch.stack( [from_base(idx[i,-N:],1) for i in range(idx.shape[0])])\n",
    "            \n",
    "            # get the predictions\n",
    "            logits, loss = self(x) \n",
    "            \n",
    "            # focus only on the last time step\n",
    "            logits = logits[:, -1, :] # becomes (B, C)\n",
    "            \n",
    "            # apply softmax to get probabilities\n",
    "            probs = F.softmax(logits, dim=-1) # (B, C)\n",
    "            \n",
    "            # sample from the distribution\n",
    "            idx_next = torch.multinomial(probs, num_samples=1) # (B, 1)\n",
    "            \n",
    "            # append sampled index to the running sequence\n",
    "            idx = torch.cat((idx, idx_next), dim=1) # (B, T+1)\n",
    "        return idx"
   ]
  },
  {
   "cell_type": "markdown",
   "id": "c7cb8c9b-4abc-4d0d-876e-b15762226478",
   "metadata": {},
   "source": [
    "### Create the n-gram model"
   ]
  },
  {
   "cell_type": "code",
   "execution_count": 15,
   "id": "3d8e1054-69c8-43c4-95c2-2753df540dee",
   "metadata": {},
   "outputs": [],
   "source": [
    "model = NgramLanguageModel(vocab_size)\n",
    "m = model.to(device)"
   ]
  },
  {
   "cell_type": "markdown",
   "id": "0fad034b-80a6-4bd3-a8e6-ad87f8351baf",
   "metadata": {},
   "source": [
    "### Define optimizer"
   ]
  },
  {
   "cell_type": "code",
   "execution_count": 16,
   "id": "997045a7-e323-4da9-941c-bfb29163e5bf",
   "metadata": {
    "tags": []
   },
   "outputs": [],
   "source": [
    "optimizer = torch.optim.AdamW(model.parameters(), lr=learning_rate)"
   ]
  },
  {
   "cell_type": "markdown",
   "id": "32f1c685-a64f-496d-9ccc-5c80487da1a5",
   "metadata": {},
   "source": [
    "### Run training\n",
    "\n",
    "Feel free to vary the `eval_interval` variable to change frequency oftext output."
   ]
  },
  {
   "cell_type": "code",
   "execution_count": null,
   "id": "77f5be41-3026-4b13-8259-dedb3ad5f34a",
   "metadata": {
    "tags": []
   },
   "outputs": [
    {
     "name": "stdout",
     "output_type": "stream",
     "text": [
      "step 0: train loss 4.7149, val loss 4.6480\n",
      "step 200: train loss 2.7172, val loss 4.3216\n",
      "step 400: train loss 1.4087, val loss 4.2017\n",
      "step 600: train loss 0.8087, val loss 4.1690\n",
      "step 800: train loss 0.5614, val loss 4.2727\n",
      "step 1000: train loss 0.4601, val loss 4.3398\n",
      "step 1200: train loss 0.4119, val loss 4.3815\n",
      "step 1400: train loss 0.3846, val loss 4.4314\n",
      "step 1600: train loss 0.3709, val loss 4.4616\n",
      "step 1800: train loss 0.3555, val loss 4.5281\n",
      "step 2000: train loss 0.3487, val loss 4.5308\n",
      "step 2200: train loss 0.3447, val loss 4.5813\n",
      "step 2400: train loss 0.3347, val loss 4.5977\n",
      "step 2600: train loss 0.3311, val loss 4.6094\n"
     ]
    }
   ],
   "source": [
    "train_loss = [] # save here training loss for further visualization\n",
    "val_loss = []   # save here validation loss for further visualization\n",
    "\n",
    "for iter in range(max_iters):\n",
    "\n",
    "    # every once in a while evaluate the loss on train and val sets\n",
    "    if iter % eval_interval == 0:\n",
    "        losses = estimate_loss()\n",
    "        train_loss.append(losses['train'].detach().numpy())\n",
    "        val_loss.append(losses['val'].detach().numpy())\n",
    "        print(f\"step {iter}: train loss {losses['train']:.4f}, val loss {losses['val']:.4f}\")\n",
    "\n",
    "    # sample a batch of data\n",
    "    xb, yb = get_batch('train')\n",
    "\n",
    "    # evaluate the loss\n",
    "    logits, loss = model(xb, yb)\n",
    "    optimizer.zero_grad(set_to_none=True)\n",
    "    loss.backward()\n",
    "    optimizer.step()"
   ]
  },
  {
   "cell_type": "markdown",
   "id": "54fdbaa7-d331-405d-8b2f-3f1517325786",
   "metadata": {},
   "source": [
    "### Visualize the training performance"
   ]
  },
  {
   "cell_type": "code",
   "execution_count": null,
   "id": "50f61bee-2567-42a2-8316-45d08e7b141a",
   "metadata": {},
   "outputs": [],
   "source": [
    "import matplotlib.pyplot as plt\n",
    "%matplotlib inline"
   ]
  },
  {
   "cell_type": "code",
   "execution_count": null,
   "id": "44a125f6-c6fe-4ddb-b343-8d2a31f7710f",
   "metadata": {},
   "outputs": [],
   "source": [
    "fig = plt.figure()\n",
    "ax = plt.axes()\n",
    "plt.plot(train_loss, label='Training')\n",
    "plt.plot(val_loss, label='Validation')\n",
    "plt.xlabel(\"Epoch / Evaluation interval\")\n",
    "plt.ylabel(\"Loss\")\n",
    "plt.legend();"
   ]
  },
  {
   "cell_type": "markdown",
   "id": "4acee9f1-2461-4145-aa1f-e12d28111b37",
   "metadata": {},
   "source": [
    "### Run the model to generate text\n",
    "- What can you say about the quality of the generated text?\n",
    "- Is it related to the model performance shown in the figure above?"
   ]
  },
  {
   "cell_type": "code",
   "execution_count": null,
   "id": "8262399e-0866-4b1e-b86f-4da4478fe769",
   "metadata": {
    "tags": []
   },
   "outputs": [],
   "source": [
    "context = torch.zeros((1, N), dtype=torch.long, device=device)\n",
    "print(decode(m.generate(context, max_new_tokens=500)[0].tolist()))"
   ]
  },
  {
   "cell_type": "code",
   "execution_count": null,
   "id": "84a31961-2942-4b64-8373-32eeb5cade92",
   "metadata": {},
   "outputs": [],
   "source": []
  }
 ],
 "metadata": {
  "kernelspec": {
   "display_name": "Python 3 (ipykernel)",
   "language": "python",
   "name": "python3"
  },
  "language_info": {
   "codemirror_mode": {
    "name": "ipython",
    "version": 3
   },
   "file_extension": ".py",
   "mimetype": "text/x-python",
   "name": "python",
   "nbconvert_exporter": "python",
   "pygments_lexer": "ipython3",
   "version": "3.12.4"
  }
 },
 "nbformat": 4,
 "nbformat_minor": 5
}
